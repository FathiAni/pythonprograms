{
 "cells": [
  {
   "cell_type": "code",
   "execution_count": 3,
   "metadata": {},
   "outputs": [
    {
     "name": "stdout",
     "output_type": "stream",
     "text": [
      "     outlook temperature humidity    wind playtennis\n",
      "0      sunny         hot     high    weak         no\n",
      "1      sunny         hot     high  strong         no\n",
      "2   overcast         hot     high    weak        yes\n",
      "3       rain        mild     high    weak        yes\n",
      "4       rain        cool   normal    weak        yes\n",
      "5       rain        cool   normal  strong         no\n",
      "6   overcast        cool   normal  strong        yes\n",
      "7      sunny        mild     high    weak         no\n",
      "8      sunny        cool   normal    weak        yes\n",
      "9       rain        mild   normal    weak        yes\n",
      "10     sunny        mild   normal  strong        yes\n",
      "11  overcast        mild     high  strong        yes\n",
      "12  overcast         hot   normal    weak        yes\n",
      "13      rain        mild     high  strong         no\n"
     ]
    }
   ],
   "source": [
    "\n",
    "import pandas as pd\n",
    "from pandas import DataFrame\n",
    "df_tennis = pd.read_csv('tennis.csv')\n",
    "print(df_tennis)\n"
   ]
  },
  {
   "cell_type": "code",
   "execution_count": 6,
   "metadata": {},
   "outputs": [
    {
     "name": "stdout",
     "output_type": "stream",
     "text": [
      "['outlook', 'temperature', 'humidity', 'wind']\n"
     ]
    }
   ],
   "source": [
    "attribute_names = list(df_tennis.columns)\n",
    "attribute_names.remove('playtennis')\n",
    "\n",
    "print(attribute_names)"
   ]
  },
  {
   "cell_type": "code",
   "execution_count": 7,
   "metadata": {},
   "outputs": [],
   "source": [
    "def entropy_of_list(lst):\n",
    "    from collections import Counter\n",
    "    count = Counter(x for x in lst)\n",
    "    num_instances = len(lst)*1.\n",
    "    probs = [x/num_instances for x in count.values()]\n",
    "    return entropy(probs)"
   ]
  },
  {
   "cell_type": "code",
   "execution_count": 8,
   "metadata": {},
   "outputs": [],
   "source": [
    "def entropy(probs):\n",
    "    import math\n",
    "    return sum([-prob*math.log(prob,2) for prob in probs])"
   ]
  },
  {
   "cell_type": "code",
   "execution_count": 9,
   "metadata": {},
   "outputs": [],
   "source": [
    "total_entropy = entropy_of_list(df_tennis['playtennis'])\n"
   ]
  },
  {
   "cell_type": "code",
   "execution_count": 13,
   "metadata": {},
   "outputs": [],
   "source": [
    "def information_gain(df, split_attribute_name, target_attribute_name, trace=0):\n",
    "    df_split = df.groupby(split_attribute_name)\n",
    "    nobs = len(df.index)*1.\n",
    "    df_agg_ent = df_split.agg({target_attribute_name:[entropy_of_list, lambda x:len(x)/nobs]})\n",
    "    df_agg_ent.columns = ['Entropy','propobservations']\n",
    "    new_entropy = sum(df_agg_ent['Entropy'] * df_agg_ent['propobservations'])\n",
    "    old_entropy = entropy_of_list(df[target_attribute_name])\n",
    "    print(split_attribute_name, 'IG :',old_entropy - new_entropy)\n",
    "    return old_entropy - new_entropy"
   ]
  },
  {
   "cell_type": "code",
   "execution_count": 14,
   "metadata": {},
   "outputs": [],
   "source": [
    "def id3(df, target_attribute_name, attribute_names, default_class = None):\n",
    "    from collections import Counter\n",
    "    count = Counter(x for x in df[target_attribute_name])\n",
    "    if len(count)==1:\n",
    "        return next(iter(count))\n",
    "    elif df.empty or (not attribute_names):\n",
    "        return default_class\n",
    "    else:\n",
    "        default_class = max(count.keys())\n",
    "        gain = [\n",
    "            information_gain(df, attr, target_attribute_name) for attr in attribute_names\n",
    "        ]\n",
    "        print()\n",
    "        index_of_max = gain.index(max(gain))\n",
    "        best_attr = attribute_names[index_of_max]\n",
    "        \n",
    "        tree = {best_attr:{}}\n",
    "        \n",
    "        remaining_attribute_names = [ i for i in attribute_names if i!= best_attr ]\n",
    "        \n",
    "        for attr_val, data_subset in df.groupby(best_attr):\n",
    "                subtree = id3(data_subset, target_attribute_name, remaining_attribute_names, default_class)\n",
    "                tree[best_attr][attr_val] = subtree\n",
    "        \n",
    "        return tree"
   ]
  },
  {
   "cell_type": "code",
   "execution_count": 16,
   "metadata": {},
   "outputs": [
    {
     "name": "stdout",
     "output_type": "stream",
     "text": [
      "outlook IG : 0.2467498197744391\n",
      "temperature IG : 0.029222565658954647\n",
      "humidity IG : 0.15183550136234136\n",
      "wind IG : 0.04812703040826927\n",
      "\n",
      "temperature IG : 0.01997309402197489\n",
      "humidity IG : 0.01997309402197489\n",
      "wind IG : 0.9709505944546686\n",
      "\n",
      "temperature IG : 0.5709505944546686\n",
      "humidity IG : 0.9709505944546686\n",
      "wind IG : 0.01997309402197489\n",
      "\n",
      "\n",
      "\n",
      "The Resultant Decision Tree is:\n",
      "\n",
      "{'outlook': {'overcast': 'yes',\n",
      "             'rain': {'wind': {'strong': 'no', 'weak': 'yes'}},\n",
      "             'sunny': {'humidity': {'high': 'no', 'normal': 'yes'}}}}\n"
     ]
    }
   ],
   "source": [
    "from pprint import pprint\n",
    "tree = id3(df_tennis, 'playtennis', attribute_names)\n",
    "print(\"\\n\\nThe Resultant Decision Tree is:\\n\")\n",
    "pprint(tree)"
   ]
  },
  {
   "cell_type": "code",
   "execution_count": null,
   "metadata": {},
   "outputs": [],
   "source": []
  }
 ],
 "metadata": {
  "kernelspec": {
   "display_name": "Python 3",
   "language": "python",
   "name": "python3"
  },
  "language_info": {
   "codemirror_mode": {
    "name": "ipython",
    "version": 3
   },
   "file_extension": ".py",
   "mimetype": "text/x-python",
   "name": "python",
   "nbconvert_exporter": "python",
   "pygments_lexer": "ipython3",
   "version": "3.7.4"
  }
 },
 "nbformat": 4,
 "nbformat_minor": 2
}
